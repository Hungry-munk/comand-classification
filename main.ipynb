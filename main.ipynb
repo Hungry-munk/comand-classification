{
 "cells": [
  {
   "cell_type": "code",
   "execution_count": 14,
   "metadata": {},
   "outputs": [],
   "source": [
    "import os\n",
    "import tensorflow as tf\n",
    "import numpy as np\n",
    "from configs import Configs as C"
   ]
  },
  {
   "cell_type": "code",
   "execution_count": 15,
   "metadata": {},
   "outputs": [],
   "source": [
    "# functions for getting .wav file paths for different datasets\n",
    "def txt_file_path_loader(file_path, base_dir):\n",
    "    with open(file_path, 'r') as f:\n",
    "        lines = f.readlines()\n",
    "    file_paths = [base_dir + line.strip() for line in lines]\n",
    "    return file_paths\n",
    "\n",
    "def get_all_wav_file_paths(data_dir):\n",
    "    wav_file_paths = []\n",
    "    for root, _, files in os.walk(data_dir):\n",
    "        for file in files:\n",
    "            if file.endswith(\".wav\"):\n",
    "                wav_file_path = root + '/' + file\n",
    "                wav_file_paths.append(wav_file_path)\n",
    "    return wav_file_paths"
   ]
  },
  {
   "cell_type": "code",
   "execution_count": 17,
   "metadata": {},
   "outputs": [],
   "source": [
    "# create a testing and validation list containing relevant file paths\n",
    "test_file_path = './data/testing_list.txt'\n",
    "val_file_path = './data/validation_list.txt'\n",
    "base_dir = './data/'\n",
    "\n",
    "test_paths = txt_file_path_loader(test_file_path, base_dir)\n",
    "val_paths = txt_file_path_loader(val_file_path, base_dir)\n",
    "all_paths = get_all_wav_file_paths(base_dir)\n",
    "# get all files and subtract testing and val files to get training files\n",
    "train_paths = set(all_paths) - set(val_paths) - set(test_paths)\n",
    "# convert set back into list\n",
    "train_paths = list(train_paths)"
   ]
  }
 ],
 "metadata": {
  "kernelspec": {
   "display_name": "project-env",
   "language": "python",
   "name": "python3"
  },
  "language_info": {
   "codemirror_mode": {
    "name": "ipython",
    "version": 3
   },
   "file_extension": ".py",
   "mimetype": "text/x-python",
   "name": "python",
   "nbconvert_exporter": "python",
   "pygments_lexer": "ipython3",
   "version": "3.9.20"
  }
 },
 "nbformat": 4,
 "nbformat_minor": 2
}
