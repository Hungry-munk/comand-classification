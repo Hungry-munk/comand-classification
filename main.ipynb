{
 "cells": [
  {
   "cell_type": "code",
   "execution_count": 1,
   "metadata": {},
   "outputs": [],
   "source": [
    "import os\n",
    "import numpy as np\n",
    "import tensorflow as tf\n",
    "from tensorflow.keras import mixed_precision\n",
    "import tensorflow.keras.backend as K\n",
    "from tensorflow.keras.models import load_model\n",
    "from tensorflow.keras.callbacks import ModelCheckpoint, EarlyStopping,  ReduceLROnPlateau,  TensorBoard\n",
    "from tensorflow.keras.optimizers import Adam\n",
    "import matplotlib.pyplot as plt\n",
    "from configs import Configs as C\n",
    "from data_processing import create_dataset, calculate_spectrogram_dimensions\n",
    "from model import build_CNN\n",
    "import datetime\n",
    "# get configs\n",
    "c = C()"
   ]
  },
  {
   "cell_type": "code",
   "execution_count": null,
   "metadata": {},
   "outputs": [],
   "source": [
    "# empty out VRAM if being used for some reason\n",
    "K.clear_session()\n",
    "# allow for mixed prcision compute for more effienct compute\n",
    "policy = mixed_precision.Policy('mixed_float16')\n",
    "mixed_precision.set_global_policy(policy)\n",
    "# enable GPU dynamic VRAM allocation \n",
    "gpus = tf.config.experimental.list_physical_devices('GPU')\n",
    "if gpus:\n",
    "    try:\n",
    "        for gpu in gpus:\n",
    "            tf.config.experimental.set_memory_growth(gpu, True)\n",
    "    except RuntimeError as e:\n",
    "        print(e)"
   ]
  },
  {
   "cell_type": "code",
   "execution_count": 3,
   "metadata": {},
   "outputs": [],
   "source": [
    "# functions for getting .wav file paths for different datasets\n",
    "def txt_file_path_loader(file_path, base_dir):\n",
    "    with open(file_path, 'r') as f:\n",
    "        lines = f.readlines()\n",
    "    file_paths = [base_dir + line.strip() for line in lines]\n",
    "    return file_paths\n",
    "\n",
    "def get_all_wav_file_paths(data_dir):\n",
    "    wav_file_paths = []\n",
    "    for root, _, files in os.walk(data_dir):\n",
    "        for file in files:\n",
    "            if file.endswith(\".wav\"):\n",
    "                wav_file_path = root + '/' + file\n",
    "                wav_file_paths.append(wav_file_path)\n",
    "    return wav_file_paths"
   ]
  },
  {
   "cell_type": "code",
   "execution_count": 4,
   "metadata": {},
   "outputs": [],
   "source": [
    "# create a testing and validation list containing relevant file paths\n",
    "test_file_path = './data/testing_list.txt'\n",
    "val_file_path = './data/validation_list.txt'\n",
    "base_dir = './data/'\n",
    "\n",
    "test_paths = txt_file_path_loader(test_file_path, base_dir)\n",
    "val_paths = txt_file_path_loader(val_file_path, base_dir)\n",
    "all_paths = get_all_wav_file_paths(base_dir)\n",
    "# get all files and subtract testing and val files to get training files\n",
    "train_paths = set(all_paths) - set(val_paths) - set(test_paths)\n",
    "# convert set back into list\n",
    "train_paths = list(train_paths)"
   ]
  },
  {
   "cell_type": "code",
   "execution_count": 5,
   "metadata": {},
   "outputs": [],
   "source": [
    "# batch sizes\n",
    "TRAIN_BATCH_SIZE = c.train_batch_size\n",
    "TEST_BATCH_SIZE = c.test_batch_size\n",
    "VAL_BATCH_SIZE = c.val_batch_size\n",
    "\n",
    "# for readiability\n",
    "FRAME_LENGTH = c.spectrogram_configs['frame_length']\n",
    "FRAME_STEP = c.spectrogram_configs['frame_step']\n",
    "TARGET_RATE = c.target_rate\n",
    "# creating datasets\n",
    "train_dataset = create_dataset(train_paths, TRAIN_BATCH_SIZE, TARGET_RATE, FRAME_LENGTH, FRAME_STEP)\n",
    "val_dataset = create_dataset(test_paths, VAL_BATCH_SIZE, TARGET_RATE, FRAME_LENGTH, FRAME_STEP)\n",
    "# testing dataset may be added later"
   ]
  },
  {
   "cell_type": "code",
   "execution_count": 6,
   "metadata": {},
   "outputs": [],
   "source": [
    "# counter = 1\n",
    "# for t, l in train_dataset.take(1):\n",
    "#     for z in t:\n",
    "#         print(z.shape)\n",
    "#         plt.figure()\n",
    "#         plt.imshow(z.numpy())\n",
    "#     print('end of batch', counter)\n",
    "#     counter+= 1"
   ]
  },
  {
   "cell_type": "code",
   "execution_count": null,
   "metadata": {},
   "outputs": [],
   "source": [
    "# model details\n",
    "ACTIVATION = 'relu' #maybe try leaky relu\n",
    "NUM_CLASSES = c.num_classes\n",
    "height, width = calculate_spectrogram_dimensions(1, TARGET_RATE, FRAME_LENGTH, FRAME_STEP)\n",
    "INPUT_SHAPE = (height, width, 1)\n",
    "print(INPUT_SHAPE)\n",
    "LR = c.learning_rate\n",
    "\n",
    "# build model\n",
    "model = build_CNN(INPUT_SHAPE, NUM_CLASSES, ACTIVATION)\n",
    "model.summary()\n",
    "# Compile the model\n",
    "model.compile(\n",
    "    optimizer=Adam(learning_rate=LR, clipnorm = 1.0),\n",
    "    loss='categorical_crossentropy',\n",
    "    metrics = ['accuracy']\n",
    "    )\n",
    "\n",
    "# Callbacks for selecting the best model and early stopping if more training does nothing \n",
    "checkpoint = ModelCheckpoint('OCR model', monitor='val_loss', save_best_only=True, verbose=1)\n",
    "early_stopping = EarlyStopping(monitor='val_loss', patience=3, restore_best_weights=True, verbose=1)\n",
    "reduce_lr = ReduceLROnPlateau(monitor='val_loss', factor=0.2, patience=5, min_lr=1e-6)\n",
    "log_dir = \"logs/fit/\" + datetime.datetime.now().strftime(\"%Y%m%d-%H%M%S\")\n",
    "tensorboard_callback = TensorBoard(log_dir=log_dir, histogram_freq=1)\n",
    "\n",
    "callbacks = [\n",
    "    checkpoint,\n",
    "    early_stopping,\n",
    "    reduce_lr,\n",
    "    tensorboard_callback\n",
    "]"
   ]
  },
  {
   "cell_type": "code",
   "execution_count": null,
   "metadata": {},
   "outputs": [],
   "source": [
    "EPOCHS = c.epochs\n",
    "history = model.fit(\n",
    "    train_dataset,\n",
    "    epochs = EPOCHS,\n",
    "    validation_data = val_dataset,\n",
    "    callbacks = callbacks,\n",
    "    verbose = 1\n",
    ")"
   ]
  },
  {
   "cell_type": "code",
   "execution_count": null,
   "metadata": {},
   "outputs": [],
   "source": [
    "model.save('command classification model')"
   ]
  }
 ],
 "metadata": {
  "kernelspec": {
   "display_name": "project-env",
   "language": "python",
   "name": "python3"
  },
  "language_info": {
   "codemirror_mode": {
    "name": "ipython",
    "version": 3
   },
   "file_extension": ".py",
   "mimetype": "text/x-python",
   "name": "python",
   "nbconvert_exporter": "python",
   "pygments_lexer": "ipython3",
   "version": "3.9.20"
  }
 },
 "nbformat": 4,
 "nbformat_minor": 2
}
