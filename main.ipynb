{
 "cells": [
  {
   "cell_type": "code",
   "execution_count": 1,
   "metadata": {},
   "outputs": [],
   "source": [
    "import os\n",
    "import numpy as np\n",
    "import tensorflow as tf\n",
    "from tensorflow.keras import mixed_precision\n",
    "import tensorflow.keras.backend as K\n",
    "from tensorflow.keras.models import load_model\n",
    "from tensorflow.keras.callbacks import ModelCheckpoint, EarlyStopping,  ReduceLROnPlateau,  TensorBoard\n",
    "from tensorflow.keras.optimizers import Adam\n",
    "import matplotlib.pyplot as plt\n",
    "from configs import Configs as C\n",
    "from data_processing import create_dataset, calculate_spectrogram_dimensions\n",
    "from model import build_CNN\n",
    "import datetime\n",
    "# get configs\n",
    "c = C()"
   ]
  },
  {
   "cell_type": "code",
   "execution_count": 2,
   "metadata": {},
   "outputs": [
    {
     "name": "stdout",
     "output_type": "stream",
     "text": [
      "INFO:tensorflow:Mixed precision compatibility check (mixed_float16): OK\n",
      "Your GPU will likely run quickly with dtype policy mixed_float16 as it has compute capability of at least 7.0. Your GPU: NVIDIA GeForce RTX 2070 SUPER, compute capability 7.5\n"
     ]
    }
   ],
   "source": [
    "# empty out VRAM if being used for some reason\n",
    "K.clear_session()\n",
    "# allow for mixed prcision compute for more effienct compute\n",
    "policy = mixed_precision.Policy('mixed_float16')\n",
    "mixed_precision.set_global_policy(policy)\n",
    "# enable GPU dynamic VRAM allocation \n",
    "gpus = tf.config.experimental.list_physical_devices('GPU')\n",
    "if gpus:\n",
    "    try:\n",
    "        for gpu in gpus:\n",
    "            tf.config.experimental.set_memory_growth(gpu, True)\n",
    "    except RuntimeError as e:\n",
    "        print(e)"
   ]
  },
  {
   "cell_type": "code",
   "execution_count": 3,
   "metadata": {},
   "outputs": [],
   "source": [
    "# functions for getting .wav file paths for different datasets\n",
    "def txt_file_path_loader(file_path, base_dir):\n",
    "    with open(file_path, 'r') as f:\n",
    "        lines = f.readlines()\n",
    "    file_paths = [base_dir + line.strip() for line in lines]\n",
    "    return file_paths\n",
    "\n",
    "def get_all_wav_file_paths(data_dir):\n",
    "    wav_file_paths = []\n",
    "    for root, _, files in os.walk(data_dir):\n",
    "        for file in files:\n",
    "            if file.endswith(\".wav\"):\n",
    "                wav_file_path = root + '/' + file\n",
    "                wav_file_paths.append(wav_file_path)\n",
    "    return wav_file_paths"
   ]
  },
  {
   "cell_type": "code",
   "execution_count": 4,
   "metadata": {},
   "outputs": [],
   "source": [
    "# create a testing and validation list containing relevant file paths\n",
    "test_file_path = './data/testing_list.txt'\n",
    "val_file_path = './data/validation_list.txt'\n",
    "base_dir = './data/'\n",
    "\n",
    "test_paths = txt_file_path_loader(test_file_path, base_dir)\n",
    "val_paths = txt_file_path_loader(val_file_path, base_dir)\n",
    "all_paths = get_all_wav_file_paths(base_dir)\n",
    "# get all files and subtract testing and val files to get training files\n",
    "train_paths = set(all_paths) - set(val_paths) - set(test_paths)\n",
    "# convert set back into list\n",
    "train_paths = list(train_paths)"
   ]
  },
  {
   "cell_type": "code",
   "execution_count": 5,
   "metadata": {},
   "outputs": [],
   "source": [
    "# batch sizes\n",
    "TRAIN_BATCH_SIZE = c.train_batch_size\n",
    "TEST_BATCH_SIZE = c.test_batch_size\n",
    "VAL_BATCH_SIZE = c.val_batch_size\n",
    "\n",
    "# for readiability\n",
    "FRAME_LENGTH = c.spectrogram_configs['frame_length']\n",
    "FRAME_STEP = c.spectrogram_configs['frame_step']\n",
    "TARGET_RATE = c.target_rate\n",
    "# creating datasets\n",
    "train_dataset = create_dataset(train_paths, TRAIN_BATCH_SIZE, TARGET_RATE, FRAME_LENGTH, FRAME_STEP)\n",
    "val_dataset = create_dataset(test_paths, VAL_BATCH_SIZE, TARGET_RATE, FRAME_LENGTH, FRAME_STEP)\n",
    "# testing dataset may be added later"
   ]
  },
  {
   "cell_type": "code",
   "execution_count": 6,
   "metadata": {},
   "outputs": [],
   "source": [
    "# counter = 1\n",
    "# for t, l in train_dataset.take(1):\n",
    "#     for z in t:\n",
    "#         print(z.shape)\n",
    "#         plt.figure()\n",
    "#         plt.imshow(z.numpy())\n",
    "#     print('end of batch', counter)\n",
    "#     counter+= 1"
   ]
  },
  {
   "cell_type": "code",
   "execution_count": 7,
   "metadata": {},
   "outputs": [
    {
     "name": "stdout",
     "output_type": "stream",
     "text": [
      "(61, 257, 1)\n",
      "Model: \"model\"\n",
      "_________________________________________________________________\n",
      " Layer (type)                Output Shape              Param #   \n",
      "=================================================================\n",
      " input_1 (InputLayer)        [(None, 61, 257, 1)]      0         \n",
      "                                                                 \n",
      " conv1 (Conv2D)              (None, 61, 257, 32)       320       \n",
      "                                                                 \n",
      " batch_normalization (BatchN  (None, 61, 257, 32)      128       \n",
      " ormalization)                                                   \n",
      "                                                                 \n",
      " activation (Activation)     (None, 61, 257, 32)       0         \n",
      "                                                                 \n",
      " max1 (MaxPooling2D)         (None, 30, 128, 32)       0         \n",
      "                                                                 \n",
      " conv2 (Conv2D)              (None, 30, 128, 64)       18496     \n",
      "                                                                 \n",
      " batch_normalization_1 (Batc  (None, 30, 128, 64)      256       \n",
      " hNormalization)                                                 \n",
      "                                                                 \n",
      " activation_1 (Activation)   (None, 30, 128, 64)       0         \n",
      "                                                                 \n",
      " max2 (MaxPooling2D)         (None, 15, 64, 64)        0         \n",
      "                                                                 \n",
      " flatten (Flatten)           (None, 61440)             0         \n",
      "                                                                 \n",
      " dense (Dense)               (None, 32)                1966112   \n",
      "                                                                 \n",
      " dropout (Dropout)           (None, 32)                0         \n",
      "                                                                 \n",
      " dense_1 (Dense)             (None, 30)                990       \n",
      "                                                                 \n",
      "=================================================================\n",
      "Total params: 1,986,302\n",
      "Trainable params: 1,986,110\n",
      "Non-trainable params: 192\n",
      "_________________________________________________________________\n"
     ]
    }
   ],
   "source": [
    "# model details\n",
    "ACTIVATION = 'relu' #maybe try leaky relu\n",
    "NUM_CLASSES = c.num_classes\n",
    "height, width = calculate_spectrogram_dimensions(1, TARGET_RATE, FRAME_LENGTH, FRAME_STEP)\n",
    "INPUT_SHAPE = (height, width, 1)\n",
    "print(INPUT_SHAPE)\n",
    "LR = c.learning_rate\n",
    "\n",
    "# build model\n",
    "model = build_CNN(INPUT_SHAPE, NUM_CLASSES, ACTIVATION)\n",
    "model.summary()\n",
    "# Compile the model\n",
    "model.compile(\n",
    "    optimizer=Adam(learning_rate=LR, clipnorm = 1.0),\n",
    "    loss='categorical_crossentropy',\n",
    "    metrics = ['accuracy']\n",
    "    )\n",
    "\n",
    "# Callbacks for selecting the best model and early stopping if more training does nothing \n",
    "checkpoint = ModelCheckpoint('OCR model', monitor='val_loss', save_best_only=True, verbose=1)\n",
    "early_stopping = EarlyStopping(monitor='val_loss', patience=3, restore_best_weights=True, verbose=1)\n",
    "reduce_lr = ReduceLROnPlateau(monitor='val_loss', factor=0.2, patience=5, min_lr=1e-6)\n",
    "log_dir = \"logs/fit/\" + datetime.datetime.now().strftime(\"%Y%m%d-%H%M%S\")\n",
    "tensorboard_callback = TensorBoard(log_dir=log_dir, histogram_freq=1)\n",
    "\n",
    "callbacks = [\n",
    "    checkpoint,\n",
    "    early_stopping,\n",
    "    reduce_lr,\n",
    "    tensorboard_callback\n",
    "]"
   ]
  },
  {
   "cell_type": "code",
   "execution_count": 8,
   "metadata": {},
   "outputs": [
    {
     "name": "stdout",
     "output_type": "stream",
     "text": [
      "Epoch 1/15\n",
      "   1596/Unknown - 784s 489ms/step - loss: 3.3769 - accuracy: 0.0499\n",
      "Epoch 1: val_loss improved from inf to 3.32921, saving model to OCR model\n"
     ]
    },
    {
     "name": "stderr",
     "output_type": "stream",
     "text": [
      "WARNING:absl:Found untraced functions such as _jit_compiled_convolution_op, _jit_compiled_convolution_op while saving (showing 2 of 2). These functions will not be directly callable after loading.\n"
     ]
    },
    {
     "name": "stdout",
     "output_type": "stream",
     "text": [
      "INFO:tensorflow:Assets written to: OCR model\\assets\n"
     ]
    },
    {
     "name": "stderr",
     "output_type": "stream",
     "text": [
      "INFO:tensorflow:Assets written to: OCR model\\assets\n"
     ]
    },
    {
     "name": "stdout",
     "output_type": "stream",
     "text": [
      "1596/1596 [==============================] - 883s 551ms/step - loss: 3.3769 - accuracy: 0.0499 - val_loss: 3.3292 - val_accuracy: 0.0662 - lr: 1.0000e-04\n",
      "Epoch 2/15\n",
      "1596/1596 [==============================] - ETA: 0s - loss: 3.3413 - accuracy: 0.0580\n",
      "Epoch 2: val_loss improved from 3.32921 to 3.30050, saving model to OCR model\n"
     ]
    },
    {
     "name": "stderr",
     "output_type": "stream",
     "text": [
      "WARNING:absl:Found untraced functions such as _jit_compiled_convolution_op, _jit_compiled_convolution_op while saving (showing 2 of 2). These functions will not be directly callable after loading.\n"
     ]
    },
    {
     "name": "stdout",
     "output_type": "stream",
     "text": [
      "INFO:tensorflow:Assets written to: OCR model\\assets\n"
     ]
    },
    {
     "name": "stderr",
     "output_type": "stream",
     "text": [
      "INFO:tensorflow:Assets written to: OCR model\\assets\n"
     ]
    },
    {
     "name": "stdout",
     "output_type": "stream",
     "text": [
      "1596/1596 [==============================] - 627s 393ms/step - loss: 3.3413 - accuracy: 0.0580 - val_loss: 3.3005 - val_accuracy: 0.0698 - lr: 1.0000e-04\n",
      "Epoch 3/15\n",
      "1596/1596 [==============================] - ETA: 0s - loss: 3.3019 - accuracy: 0.0606\n",
      "Epoch 3: val_loss improved from 3.30050 to 3.23954, saving model to OCR model\n"
     ]
    },
    {
     "name": "stderr",
     "output_type": "stream",
     "text": [
      "WARNING:absl:Found untraced functions such as _jit_compiled_convolution_op, _jit_compiled_convolution_op while saving (showing 2 of 2). These functions will not be directly callable after loading.\n"
     ]
    },
    {
     "name": "stdout",
     "output_type": "stream",
     "text": [
      "INFO:tensorflow:Assets written to: OCR model\\assets\n"
     ]
    },
    {
     "name": "stderr",
     "output_type": "stream",
     "text": [
      "INFO:tensorflow:Assets written to: OCR model\\assets\n"
     ]
    },
    {
     "name": "stdout",
     "output_type": "stream",
     "text": [
      "1596/1596 [==============================] - 396s 248ms/step - loss: 3.3019 - accuracy: 0.0606 - val_loss: 3.2395 - val_accuracy: 0.0736 - lr: 1.0000e-04\n",
      "Epoch 4/15\n",
      "1596/1596 [==============================] - ETA: 0s - loss: 3.2634 - accuracy: 0.0621\n",
      "Epoch 4: val_loss improved from 3.23954 to 3.20067, saving model to OCR model\n"
     ]
    },
    {
     "name": "stderr",
     "output_type": "stream",
     "text": [
      "WARNING:absl:Found untraced functions such as _jit_compiled_convolution_op, _jit_compiled_convolution_op while saving (showing 2 of 2). These functions will not be directly callable after loading.\n"
     ]
    },
    {
     "name": "stdout",
     "output_type": "stream",
     "text": [
      "INFO:tensorflow:Assets written to: OCR model\\assets\n"
     ]
    },
    {
     "name": "stderr",
     "output_type": "stream",
     "text": [
      "INFO:tensorflow:Assets written to: OCR model\\assets\n"
     ]
    },
    {
     "name": "stdout",
     "output_type": "stream",
     "text": [
      "1596/1596 [==============================] - 364s 228ms/step - loss: 3.2634 - accuracy: 0.0621 - val_loss: 3.2007 - val_accuracy: 0.0758 - lr: 1.0000e-04\n",
      "Epoch 5/15\n",
      "1596/1596 [==============================] - ETA: 0s - loss: 3.2403 - accuracy: 0.0625\n",
      "Epoch 5: val_loss improved from 3.20067 to 3.18275, saving model to OCR model\n"
     ]
    },
    {
     "name": "stderr",
     "output_type": "stream",
     "text": [
      "WARNING:absl:Found untraced functions such as _jit_compiled_convolution_op, _jit_compiled_convolution_op while saving (showing 2 of 2). These functions will not be directly callable after loading.\n"
     ]
    },
    {
     "name": "stdout",
     "output_type": "stream",
     "text": [
      "INFO:tensorflow:Assets written to: OCR model\\assets\n"
     ]
    },
    {
     "name": "stderr",
     "output_type": "stream",
     "text": [
      "INFO:tensorflow:Assets written to: OCR model\\assets\n"
     ]
    },
    {
     "name": "stdout",
     "output_type": "stream",
     "text": [
      "1596/1596 [==============================] - 478s 299ms/step - loss: 3.2403 - accuracy: 0.0625 - val_loss: 3.1828 - val_accuracy: 0.0805 - lr: 1.0000e-04\n",
      "Epoch 6/15\n",
      "1596/1596 [==============================] - ETA: 0s - loss: 3.2224 - accuracy: 0.0642\n",
      "Epoch 6: val_loss improved from 3.18275 to 3.16235, saving model to OCR model\n"
     ]
    },
    {
     "name": "stderr",
     "output_type": "stream",
     "text": [
      "WARNING:absl:Found untraced functions such as _jit_compiled_convolution_op, _jit_compiled_convolution_op while saving (showing 2 of 2). These functions will not be directly callable after loading.\n"
     ]
    },
    {
     "name": "stdout",
     "output_type": "stream",
     "text": [
      "INFO:tensorflow:Assets written to: OCR model\\assets\n"
     ]
    },
    {
     "name": "stderr",
     "output_type": "stream",
     "text": [
      "INFO:tensorflow:Assets written to: OCR model\\assets\n"
     ]
    },
    {
     "name": "stdout",
     "output_type": "stream",
     "text": [
      "1596/1596 [==============================] - 532s 334ms/step - loss: 3.2224 - accuracy: 0.0642 - val_loss: 3.1624 - val_accuracy: 0.0839 - lr: 1.0000e-04\n",
      "Epoch 7/15\n",
      "1596/1596 [==============================] - ETA: 0s - loss: 3.2039 - accuracy: 0.0642\n",
      "Epoch 7: val_loss improved from 3.16235 to 3.13068, saving model to OCR model\n"
     ]
    },
    {
     "name": "stderr",
     "output_type": "stream",
     "text": [
      "WARNING:absl:Found untraced functions such as _jit_compiled_convolution_op, _jit_compiled_convolution_op while saving (showing 2 of 2). These functions will not be directly callable after loading.\n"
     ]
    },
    {
     "name": "stdout",
     "output_type": "stream",
     "text": [
      "INFO:tensorflow:Assets written to: OCR model\\assets\n"
     ]
    },
    {
     "name": "stderr",
     "output_type": "stream",
     "text": [
      "INFO:tensorflow:Assets written to: OCR model\\assets\n"
     ]
    },
    {
     "name": "stdout",
     "output_type": "stream",
     "text": [
      "1596/1596 [==============================] - 362s 227ms/step - loss: 3.2039 - accuracy: 0.0642 - val_loss: 3.1307 - val_accuracy: 0.0868 - lr: 1.0000e-04\n",
      "Epoch 8/15\n",
      "1596/1596 [==============================] - ETA: 0s - loss: 3.1887 - accuracy: 0.0667\n",
      "Epoch 8: val_loss improved from 3.13068 to 3.10955, saving model to OCR model\n"
     ]
    },
    {
     "name": "stderr",
     "output_type": "stream",
     "text": [
      "WARNING:absl:Found untraced functions such as _jit_compiled_convolution_op, _jit_compiled_convolution_op while saving (showing 2 of 2). These functions will not be directly callable after loading.\n"
     ]
    },
    {
     "name": "stdout",
     "output_type": "stream",
     "text": [
      "INFO:tensorflow:Assets written to: OCR model\\assets\n"
     ]
    },
    {
     "name": "stderr",
     "output_type": "stream",
     "text": [
      "INFO:tensorflow:Assets written to: OCR model\\assets\n"
     ]
    },
    {
     "name": "stdout",
     "output_type": "stream",
     "text": [
      "1596/1596 [==============================] - 362s 227ms/step - loss: 3.1887 - accuracy: 0.0667 - val_loss: 3.1096 - val_accuracy: 0.0852 - lr: 1.0000e-04\n",
      "Epoch 9/15\n",
      "1596/1596 [==============================] - ETA: 0s - loss: 3.1777 - accuracy: 0.0670\n",
      "Epoch 9: val_loss improved from 3.10955 to 3.08646, saving model to OCR model\n"
     ]
    },
    {
     "name": "stderr",
     "output_type": "stream",
     "text": [
      "WARNING:absl:Found untraced functions such as _jit_compiled_convolution_op, _jit_compiled_convolution_op while saving (showing 2 of 2). These functions will not be directly callable after loading.\n"
     ]
    },
    {
     "name": "stdout",
     "output_type": "stream",
     "text": [
      "INFO:tensorflow:Assets written to: OCR model\\assets\n"
     ]
    },
    {
     "name": "stderr",
     "output_type": "stream",
     "text": [
      "INFO:tensorflow:Assets written to: OCR model\\assets\n"
     ]
    },
    {
     "name": "stdout",
     "output_type": "stream",
     "text": [
      "1596/1596 [==============================] - 381s 239ms/step - loss: 3.1777 - accuracy: 0.0670 - val_loss: 3.0865 - val_accuracy: 0.0846 - lr: 1.0000e-04\n",
      "Epoch 10/15\n",
      "1596/1596 [==============================] - ETA: 0s - loss: 3.1701 - accuracy: 0.0677\n",
      "Epoch 10: val_loss improved from 3.08646 to 3.07374, saving model to OCR model\n"
     ]
    },
    {
     "name": "stderr",
     "output_type": "stream",
     "text": [
      "WARNING:absl:Found untraced functions such as _jit_compiled_convolution_op, _jit_compiled_convolution_op while saving (showing 2 of 2). These functions will not be directly callable after loading.\n"
     ]
    },
    {
     "name": "stdout",
     "output_type": "stream",
     "text": [
      "INFO:tensorflow:Assets written to: OCR model\\assets\n"
     ]
    },
    {
     "name": "stderr",
     "output_type": "stream",
     "text": [
      "INFO:tensorflow:Assets written to: OCR model\\assets\n"
     ]
    },
    {
     "name": "stdout",
     "output_type": "stream",
     "text": [
      "1596/1596 [==============================] - 357s 224ms/step - loss: 3.1701 - accuracy: 0.0677 - val_loss: 3.0737 - val_accuracy: 0.0853 - lr: 1.0000e-04\n",
      "Epoch 11/15\n",
      "1596/1596 [==============================] - ETA: 0s - loss: 3.1615 - accuracy: 0.0685\n",
      "Epoch 11: val_loss improved from 3.07374 to 3.07059, saving model to OCR model\n"
     ]
    },
    {
     "name": "stderr",
     "output_type": "stream",
     "text": [
      "WARNING:absl:Found untraced functions such as _jit_compiled_convolution_op, _jit_compiled_convolution_op while saving (showing 2 of 2). These functions will not be directly callable after loading.\n"
     ]
    },
    {
     "name": "stdout",
     "output_type": "stream",
     "text": [
      "INFO:tensorflow:Assets written to: OCR model\\assets\n"
     ]
    },
    {
     "name": "stderr",
     "output_type": "stream",
     "text": [
      "INFO:tensorflow:Assets written to: OCR model\\assets\n"
     ]
    },
    {
     "name": "stdout",
     "output_type": "stream",
     "text": [
      "1596/1596 [==============================] - 363s 227ms/step - loss: 3.1615 - accuracy: 0.0685 - val_loss: 3.0706 - val_accuracy: 0.0899 - lr: 1.0000e-04\n",
      "Epoch 12/15\n",
      "1596/1596 [==============================] - ETA: 0s - loss: 3.1539 - accuracy: 0.0690\n",
      "Epoch 12: val_loss improved from 3.07059 to 3.05865, saving model to OCR model\n"
     ]
    },
    {
     "name": "stderr",
     "output_type": "stream",
     "text": [
      "WARNING:absl:Found untraced functions such as _jit_compiled_convolution_op, _jit_compiled_convolution_op while saving (showing 2 of 2). These functions will not be directly callable after loading.\n"
     ]
    },
    {
     "name": "stdout",
     "output_type": "stream",
     "text": [
      "INFO:tensorflow:Assets written to: OCR model\\assets\n"
     ]
    },
    {
     "name": "stderr",
     "output_type": "stream",
     "text": [
      "INFO:tensorflow:Assets written to: OCR model\\assets\n"
     ]
    },
    {
     "name": "stdout",
     "output_type": "stream",
     "text": [
      "1596/1596 [==============================] - 358s 224ms/step - loss: 3.1539 - accuracy: 0.0690 - val_loss: 3.0587 - val_accuracy: 0.0902 - lr: 1.0000e-04\n",
      "Epoch 13/15\n",
      "1596/1596 [==============================] - ETA: 0s - loss: 3.1456 - accuracy: 0.0687\n",
      "Epoch 13: val_loss improved from 3.05865 to 3.04996, saving model to OCR model\n"
     ]
    },
    {
     "name": "stderr",
     "output_type": "stream",
     "text": [
      "WARNING:absl:Found untraced functions such as _jit_compiled_convolution_op, _jit_compiled_convolution_op while saving (showing 2 of 2). These functions will not be directly callable after loading.\n"
     ]
    },
    {
     "name": "stdout",
     "output_type": "stream",
     "text": [
      "INFO:tensorflow:Assets written to: OCR model\\assets\n"
     ]
    },
    {
     "name": "stderr",
     "output_type": "stream",
     "text": [
      "INFO:tensorflow:Assets written to: OCR model\\assets\n"
     ]
    },
    {
     "name": "stdout",
     "output_type": "stream",
     "text": [
      "1596/1596 [==============================] - 363s 228ms/step - loss: 3.1456 - accuracy: 0.0687 - val_loss: 3.0500 - val_accuracy: 0.0896 - lr: 1.0000e-04\n",
      "Epoch 14/15\n",
      "1596/1596 [==============================] - ETA: 0s - loss: 3.1398 - accuracy: 0.0696\n",
      "Epoch 14: val_loss did not improve from 3.04996\n",
      "1596/1596 [==============================] - 359s 225ms/step - loss: 3.1398 - accuracy: 0.0696 - val_loss: 3.0514 - val_accuracy: 0.0932 - lr: 1.0000e-04\n",
      "Epoch 15/15\n",
      "1596/1596 [==============================] - ETA: 0s - loss: 3.1351 - accuracy: 0.0708\n",
      "Epoch 15: val_loss improved from 3.04996 to 3.03893, saving model to OCR model\n"
     ]
    },
    {
     "name": "stderr",
     "output_type": "stream",
     "text": [
      "WARNING:absl:Found untraced functions such as _jit_compiled_convolution_op, _jit_compiled_convolution_op while saving (showing 2 of 2). These functions will not be directly callable after loading.\n"
     ]
    },
    {
     "name": "stdout",
     "output_type": "stream",
     "text": [
      "INFO:tensorflow:Assets written to: OCR model\\assets\n"
     ]
    },
    {
     "name": "stderr",
     "output_type": "stream",
     "text": [
      "INFO:tensorflow:Assets written to: OCR model\\assets\n"
     ]
    },
    {
     "name": "stdout",
     "output_type": "stream",
     "text": [
      "1596/1596 [==============================] - 357s 224ms/step - loss: 3.1351 - accuracy: 0.0708 - val_loss: 3.0389 - val_accuracy: 0.0900 - lr: 1.0000e-04\n"
     ]
    }
   ],
   "source": [
    "EPOCHS = c.epochs\n",
    "history = model.fit(\n",
    "    train_dataset,\n",
    "    epochs = EPOCHS,\n",
    "    validation_data = val_dataset,\n",
    "    callbacks = callbacks,\n",
    "    verbose = 1\n",
    ")"
   ]
  },
  {
   "cell_type": "code",
   "execution_count": 9,
   "metadata": {},
   "outputs": [
    {
     "name": "stderr",
     "output_type": "stream",
     "text": [
      "WARNING:absl:Found untraced functions such as _jit_compiled_convolution_op, _jit_compiled_convolution_op while saving (showing 2 of 2). These functions will not be directly callable after loading.\n"
     ]
    },
    {
     "name": "stdout",
     "output_type": "stream",
     "text": [
      "INFO:tensorflow:Assets written to: command classification model\\assets\n"
     ]
    },
    {
     "name": "stderr",
     "output_type": "stream",
     "text": [
      "INFO:tensorflow:Assets written to: command classification model\\assets\n"
     ]
    }
   ],
   "source": [
    "model.save('command classification model')"
   ]
  }
 ],
 "metadata": {
  "kernelspec": {
   "display_name": "project-env",
   "language": "python",
   "name": "python3"
  },
  "language_info": {
   "codemirror_mode": {
    "name": "ipython",
    "version": 3
   },
   "file_extension": ".py",
   "mimetype": "text/x-python",
   "name": "python",
   "nbconvert_exporter": "python",
   "pygments_lexer": "ipython3",
   "version": "3.9.20"
  }
 },
 "nbformat": 4,
 "nbformat_minor": 2
}
