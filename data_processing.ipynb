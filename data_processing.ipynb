{
 "cells": [
  {
   "cell_type": "code",
   "execution_count": 4,
   "metadata": {},
   "outputs": [],
   "source": [
    "import os\n",
    "import sys\n",
    "import tensorflow as tf\n",
    "import tensorflow_io as tfio\n",
    "import numpy as np"
   ]
  },
  {
   "cell_type": "code",
   "execution_count": null,
   "metadata": {},
   "outputs": [],
   "source": [
    "# A function that will use the txt files in the data to create arrays of file paths  \n",
    "#  basedir = ./data/\n",
    "def txt_file_path_loader(file_path, base_dir = '/data/'):\n",
    "    with open(file_path, 'r') as f:\n",
    "        lines = f.readlines()\n",
    "    file_paths = [base_dir + line.strip() for line in lines]\n",
    "    return file_paths"
   ]
  },
  {
   "cell_type": "code",
   "execution_count": null,
   "metadata": {},
   "outputs": [],
   "source": [
    "# converting stereo audio into mono for 1d convelution and training\n",
    "def convert_to_mono(wav):\n",
    "    return tf.reduce_mean(wav, axis = -1, keepdims= True)"
   ]
  },
  {
   "cell_type": "code",
   "execution_count": null,
   "metadata": {},
   "outputs": [],
   "source": [
    "def resample_wav(wav, og_sample_rate, target_sample_rate):\n",
    "        # Calculate the number of samples needed for 16kHz\n",
    "        duration = tf.shape(wav)[0] / og_sample_rate\n",
    "        new_sample_count = tf.cast(duration * target_sample_rate, tf.int32)\n",
    "        \n",
    "        # Resample using tf.image.resize with 1D signal\n",
    "        resampled = tf.image.resize(\n",
    "            tf.expand_dims(wav, -1), \n",
    "            [new_sample_count, 1], \n",
    "            method='bilinear'\n",
    "        )\n",
    "        \n",
    "        return tf.squeeze(resampled)"
   ]
  },
  {
   "cell_type": "code",
   "execution_count": null,
   "metadata": {},
   "outputs": [],
   "source": [
    "# A function to take in a file path and load and prepare an audio file\n",
    "def prepare_wav(file_path, target_rate):\n",
    "    # load audio file in\n",
    "    audio_binary = tf.io.read_file(file_path)\n",
    "    wav, sample_rate = tf.audio.decode_wav(audio_binary)\n",
    "\n",
    "    # Resample to 16kHz if necessary\n",
    "    if sample_rate != target_rate:\n",
    "        wav = resample_wav(wav, sample_rate, target_rate)\n",
    "\n",
    "    # Convert to mono by taking the first channel if stereo\n",
    "    if wav.shape[-1] > 1 :\n",
    "        wav = convert_to_mono(wav)\n",
    "\n",
    "    return wav\n",
    "\n",
    "    "
   ]
  },
  {
   "cell_type": "code",
   "execution_count": null,
   "metadata": {},
   "outputs": [],
   "source": [
    "def convert_spectrogram(wav_tensor, frame_length, framestep):\n",
    "    spectrogram = "
   ]
  },
  {
   "cell_type": "code",
   "execution_count": null,
   "metadata": {},
   "outputs": [],
   "source": [
    "# A function that will preprocess an audio file and make it ready for training\n",
    "def preprocess_audio_file(audio_tensor):\n",
    "    ..."
   ]
  },
  {
   "cell_type": "code",
   "execution_count": null,
   "metadata": {},
   "outputs": [],
   "source": [
    "# A function that is going to take in a set of file paths and retrun the appriopriate X and Y object for that data\n",
    "def prepare_dataset(X_file_paths, base_dir, batch_size, target_rate):\n",
    "    ..."
   ]
  },
  {
   "cell_type": "code",
   "execution_count": null,
   "metadata": {},
   "outputs": [],
   "source": [
    "#A function to create tensorflow data set for better GPU acceleration during training, validation and testing\n",
    "def create_dataset(X_file_paths, base_dir, batch_size, target_rate ):\n",
    "    ..."
   ]
  }
 ],
 "metadata": {
  "kernelspec": {
   "display_name": "project-env",
   "language": "python",
   "name": "python3"
  },
  "language_info": {
   "codemirror_mode": {
    "name": "ipython",
    "version": 3
   },
   "file_extension": ".py",
   "mimetype": "text/x-python",
   "name": "python",
   "nbconvert_exporter": "python",
   "pygments_lexer": "ipython3",
   "version": "3.9.20"
  }
 },
 "nbformat": 4,
 "nbformat_minor": 2
}
